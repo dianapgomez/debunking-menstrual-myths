{
 "cells": [
  {
   "cell_type": "markdown",
   "id": "7c6b1591",
   "metadata": {},
   "source": [
    "EDA DEBUNKING MENSTRUAL MYTHS"
   ]
  },
  {
   "cell_type": "code",
   "execution_count": 1,
   "id": "1bd53881",
   "metadata": {},
   "outputs": [],
   "source": [
    "# Tratamiento de datos\n",
    "# -----------------------------------------------------------------------\n",
    "import pandas as pd\n",
    "import numpy as np\n",
    "# Visualización\n",
    "# ------------------------------------------------------------------------------\n",
    "import matplotlib.pyplot as plt\n",
    "import seaborn as sns\n",
    "# Evaluar linealidad de las relaciones entre las variables\n",
    "# y la distribución de las variables\n",
    "# ------------------------------------------------------------------------------\n",
    "#import scipy.stats as stats\n",
    "import scipy.stats as stats\n",
    "from scipy.stats import shapiro, kstest\n",
    "# Configuración\n",
    "# -----------------------------------------------------------------------\n",
    "pd.set_option('display.max_columns', None) # para poder visualizar todas las columnas de los DataFrames \n",
    "\n",
    "\n",
    "# Gestión de los warnings\n",
    "# -----------------------------------------------------------------------\n",
    "import warnings\n",
    "warnings.filterwarnings(\"ignore\")"
   ]
  },
  {
   "cell_type": "markdown",
   "id": "e9e52262",
   "metadata": {},
   "source": [
    "EDA menstrual_cycle_with_factos.csv"
   ]
  },
  {
   "cell_type": "code",
   "execution_count": 28,
   "id": "25b15634",
   "metadata": {},
   "outputs": [],
   "source": [
    "df_mcwf = pd.read_csv(\"../files/raw/menstrual_cycle_with_factors.csv\")"
   ]
  },
  {
   "cell_type": "code",
   "execution_count": 29,
   "id": "f28f99d8",
   "metadata": {},
   "outputs": [
    {
     "data": {
      "text/html": [
       "<div>\n",
       "<style scoped>\n",
       "    .dataframe tbody tr th:only-of-type {\n",
       "        vertical-align: middle;\n",
       "    }\n",
       "\n",
       "    .dataframe tbody tr th {\n",
       "        vertical-align: top;\n",
       "    }\n",
       "\n",
       "    .dataframe thead th {\n",
       "        text-align: right;\n",
       "    }\n",
       "</style>\n",
       "<table border=\"1\" class=\"dataframe\">\n",
       "  <thead>\n",
       "    <tr style=\"text-align: right;\">\n",
       "      <th></th>\n",
       "      <th>User ID</th>\n",
       "      <th>Age</th>\n",
       "      <th>BMI</th>\n",
       "      <th>Stress Level</th>\n",
       "      <th>Exercise Frequency</th>\n",
       "      <th>Sleep Hours</th>\n",
       "      <th>Diet</th>\n",
       "      <th>Cycle Start Date</th>\n",
       "      <th>Cycle Length</th>\n",
       "      <th>Period Length</th>\n",
       "      <th>Next Cycle Start Date</th>\n",
       "      <th>Symptoms</th>\n",
       "    </tr>\n",
       "  </thead>\n",
       "  <tbody>\n",
       "    <tr>\n",
       "      <th>0</th>\n",
       "      <td>1</td>\n",
       "      <td>18</td>\n",
       "      <td>29.28</td>\n",
       "      <td>2</td>\n",
       "      <td>Moderate</td>\n",
       "      <td>5.4</td>\n",
       "      <td>Low Carb</td>\n",
       "      <td>2024-11-13 20:52:34.915012</td>\n",
       "      <td>26</td>\n",
       "      <td>7</td>\n",
       "      <td>2024-12-09 20:52:34.915012</td>\n",
       "      <td>Headache</td>\n",
       "    </tr>\n",
       "    <tr>\n",
       "      <th>1</th>\n",
       "      <td>1</td>\n",
       "      <td>18</td>\n",
       "      <td>29.28</td>\n",
       "      <td>2</td>\n",
       "      <td>Moderate</td>\n",
       "      <td>5.4</td>\n",
       "      <td>Low Carb</td>\n",
       "      <td>2024-12-09 20:52:34.915012</td>\n",
       "      <td>32</td>\n",
       "      <td>5</td>\n",
       "      <td>2025-01-10 20:52:34.915012</td>\n",
       "      <td>Fatigue</td>\n",
       "    </tr>\n",
       "    <tr>\n",
       "      <th>2</th>\n",
       "      <td>1</td>\n",
       "      <td>18</td>\n",
       "      <td>29.28</td>\n",
       "      <td>2</td>\n",
       "      <td>Moderate</td>\n",
       "      <td>5.4</td>\n",
       "      <td>Low Carb</td>\n",
       "      <td>2025-01-10 20:52:34.915012</td>\n",
       "      <td>41</td>\n",
       "      <td>7</td>\n",
       "      <td>2025-02-20 20:52:34.915012</td>\n",
       "      <td>Fatigue</td>\n",
       "    </tr>\n",
       "    <tr>\n",
       "      <th>3</th>\n",
       "      <td>1</td>\n",
       "      <td>18</td>\n",
       "      <td>29.28</td>\n",
       "      <td>2</td>\n",
       "      <td>Moderate</td>\n",
       "      <td>5.4</td>\n",
       "      <td>Low Carb</td>\n",
       "      <td>2025-02-20 20:52:34.915012</td>\n",
       "      <td>27</td>\n",
       "      <td>3</td>\n",
       "      <td>2025-03-19 20:52:34.915012</td>\n",
       "      <td>Fatigue</td>\n",
       "    </tr>\n",
       "    <tr>\n",
       "      <th>4</th>\n",
       "      <td>1</td>\n",
       "      <td>18</td>\n",
       "      <td>29.28</td>\n",
       "      <td>2</td>\n",
       "      <td>Moderate</td>\n",
       "      <td>5.4</td>\n",
       "      <td>Low Carb</td>\n",
       "      <td>2025-03-19 20:52:34.915012</td>\n",
       "      <td>42</td>\n",
       "      <td>5</td>\n",
       "      <td>2025-04-30 20:52:34.915012</td>\n",
       "      <td>Cramps</td>\n",
       "    </tr>\n",
       "  </tbody>\n",
       "</table>\n",
       "</div>"
      ],
      "text/plain": [
       "   User ID  Age    BMI  Stress Level Exercise Frequency  Sleep Hours  \\\n",
       "0        1   18  29.28             2           Moderate          5.4   \n",
       "1        1   18  29.28             2           Moderate          5.4   \n",
       "2        1   18  29.28             2           Moderate          5.4   \n",
       "3        1   18  29.28             2           Moderate          5.4   \n",
       "4        1   18  29.28             2           Moderate          5.4   \n",
       "\n",
       "       Diet            Cycle Start Date  Cycle Length  Period Length  \\\n",
       "0  Low Carb  2024-11-13 20:52:34.915012            26              7   \n",
       "1  Low Carb  2024-12-09 20:52:34.915012            32              5   \n",
       "2  Low Carb  2025-01-10 20:52:34.915012            41              7   \n",
       "3  Low Carb  2025-02-20 20:52:34.915012            27              3   \n",
       "4  Low Carb  2025-03-19 20:52:34.915012            42              5   \n",
       "\n",
       "        Next Cycle Start Date  Symptoms  \n",
       "0  2024-12-09 20:52:34.915012  Headache  \n",
       "1  2025-01-10 20:52:34.915012   Fatigue  \n",
       "2  2025-02-20 20:52:34.915012   Fatigue  \n",
       "3  2025-03-19 20:52:34.915012   Fatigue  \n",
       "4  2025-04-30 20:52:34.915012    Cramps  "
      ]
     },
     "execution_count": 29,
     "metadata": {},
     "output_type": "execute_result"
    }
   ],
   "source": [
    "df_mcwf.head()"
   ]
  },
  {
   "cell_type": "code",
   "execution_count": 30,
   "id": "9083b8c6",
   "metadata": {},
   "outputs": [
    {
     "data": {
      "text/plain": [
       "Index(['User ID', 'Age', 'BMI', 'Stress Level', 'Exercise Frequency',\n",
       "       'Sleep Hours', 'Diet', 'Cycle Start Date', 'Cycle Length',\n",
       "       'Period Length', 'Next Cycle Start Date', 'Symptoms'],\n",
       "      dtype='object')"
      ]
     },
     "execution_count": 30,
     "metadata": {},
     "output_type": "execute_result"
    }
   ],
   "source": [
    "df_mcwf.columns"
   ]
  },
  {
   "cell_type": "code",
   "execution_count": 31,
   "id": "b92bbacb",
   "metadata": {},
   "outputs": [],
   "source": [
    "df_mcwf = df_mcwf[['User ID', 'Age', 'BMI', 'Stress Level', 'Exercise Frequency',\n",
    "       'Sleep Hours', 'Cycle Length',\n",
    "       'Period Length', 'Symptoms']]"
   ]
  },
  {
   "cell_type": "code",
   "execution_count": 33,
   "id": "dd16f4a4",
   "metadata": {},
   "outputs": [],
   "source": [
    "df_mcwf.to_csv(\"../files/processed/mens_cycle.csv\")"
   ]
  },
  {
   "cell_type": "code",
   "execution_count": 32,
   "id": "56716ccd",
   "metadata": {},
   "outputs": [
    {
     "name": "stdout",
     "output_type": "stream",
     "text": [
      "<class 'pandas.core.frame.DataFrame'>\n",
      "RangeIndex: 895 entries, 0 to 894\n",
      "Data columns (total 9 columns):\n",
      " #   Column              Non-Null Count  Dtype  \n",
      "---  ------              --------------  -----  \n",
      " 0   User ID             895 non-null    int64  \n",
      " 1   Age                 895 non-null    int64  \n",
      " 2   BMI                 895 non-null    float64\n",
      " 3   Stress Level        895 non-null    int64  \n",
      " 4   Exercise Frequency  895 non-null    object \n",
      " 5   Sleep Hours         895 non-null    float64\n",
      " 6   Cycle Length        895 non-null    int64  \n",
      " 7   Period Length       895 non-null    int64  \n",
      " 8   Symptoms            895 non-null    object \n",
      "dtypes: float64(2), int64(5), object(2)\n",
      "memory usage: 63.1+ KB\n"
     ]
    }
   ],
   "source": [
    "df_mcwf.info()"
   ]
  },
  {
   "cell_type": "code",
   "execution_count": null,
   "id": "dcfe4aae",
   "metadata": {},
   "outputs": [],
   "source": [
    "df.isna().sum()"
   ]
  },
  {
   "cell_type": "code",
   "execution_count": null,
   "id": "4d189bf6",
   "metadata": {},
   "outputs": [],
   "source": [
    "df_mcwf.duplicated().sum()\n"
   ]
  },
  {
   "cell_type": "code",
   "execution_count": null,
   "id": "ca655063",
   "metadata": {},
   "outputs": [],
   "source": [
    "df_mcwf[df_mcwf[\"User ID\"]== 1]\n"
   ]
  },
  {
   "cell_type": "code",
   "execution_count": null,
   "id": "54a1f96c",
   "metadata": {},
   "outputs": [],
   "source": [
    "df_mcwf[df_mcwf[\"User ID\"]== 2]\n"
   ]
  },
  {
   "cell_type": "code",
   "execution_count": null,
   "id": "b69373a5",
   "metadata": {},
   "outputs": [],
   "source": [
    "df_mcwf[df_mcwf[\"User ID\"]== 3]\n"
   ]
  },
  {
   "cell_type": "code",
   "execution_count": null,
   "id": "29a8d96d",
   "metadata": {},
   "outputs": [],
   "source": [
    "sns.scatterplot(data=df_mcwf, x='BMI', y='Cycle Length')\n"
   ]
  },
  {
   "cell_type": "code",
   "execution_count": null,
   "id": "829502b9",
   "metadata": {},
   "outputs": [],
   "source": [
    "sns.scatterplot(data=df_mcwf, x='Age', y='Cycle Length')\n"
   ]
  },
  {
   "cell_type": "code",
   "execution_count": null,
   "id": "8a714972",
   "metadata": {},
   "outputs": [],
   "source": [
    "sns.scatterplot(data=df_mcwf, y='Sleep Hours', x='Cycle Length')\n"
   ]
  },
  {
   "cell_type": "code",
   "execution_count": null,
   "id": "29c07dd7",
   "metadata": {},
   "outputs": [],
   "source": [
    "sns.scatterplot(data=df_mcwf, y='Stress Level', x='Cycle Length')\n"
   ]
  },
  {
   "cell_type": "code",
   "execution_count": null,
   "id": "bece522b",
   "metadata": {},
   "outputs": [],
   "source": [
    "sns.barplot(data=df_mcwf, x='Diet', y='Cycle Length')\n"
   ]
  },
  {
   "cell_type": "code",
   "execution_count": null,
   "id": "f6ef9ef3",
   "metadata": {},
   "outputs": [],
   "source": [
    "sns.barplot(data=df_mcwf, x='Diet', y='Symptoms')\n"
   ]
  },
  {
   "cell_type": "code",
   "execution_count": null,
   "id": "24fcf247",
   "metadata": {},
   "outputs": [],
   "source": [
    "sns.countplot(data=df_mcwf, x='Diet', hue='Symptoms')"
   ]
  },
  {
   "cell_type": "code",
   "execution_count": null,
   "id": "85270514",
   "metadata": {},
   "outputs": [],
   "source": [
    "sns.countplot(data=df_mcwf, x='Diet')"
   ]
  },
  {
   "cell_type": "markdown",
   "id": "1036aaeb",
   "metadata": {},
   "source": [
    "EDA Altas hospitalarias"
   ]
  },
  {
   "cell_type": "code",
   "execution_count": 17,
   "id": "d4ae7f70",
   "metadata": {},
   "outputs": [],
   "source": [
    "df_altas = pd.read_csv(\"../files/raw/altas_hospitalarias.csv\", sep= \";\")"
   ]
  },
  {
   "cell_type": "code",
   "execution_count": 14,
   "id": "129866e7",
   "metadata": {},
   "outputs": [
    {
     "name": "stdout",
     "output_type": "stream",
     "text": [
      "<class 'pandas.core.frame.DataFrame'>\n",
      "RangeIndex: 2250 entries, 0 to 2249\n",
      "Data columns (total 4 columns):\n",
      " #   Column                           Non-Null Count  Dtype \n",
      "---  ------                           --------------  ----- \n",
      " 0   Diagnóstico principal (CIE10MC)  2250 non-null   object\n",
      " 1   Sexo                             2250 non-null   object\n",
      " 2   Motivo del alta                  2250 non-null   object\n",
      " 3   Total                            2250 non-null   object\n",
      "dtypes: object(4)\n",
      "memory usage: 70.4+ KB\n"
     ]
    }
   ],
   "source": [
    "df_altas.info()"
   ]
  },
  {
   "cell_type": "code",
   "execution_count": null,
   "id": "398ea924",
   "metadata": {},
   "outputs": [],
   "source": [
    "df_altas[\"Sexo\"].unique()"
   ]
  },
  {
   "cell_type": "code",
   "execution_count": 18,
   "id": "a0f3d5e0",
   "metadata": {},
   "outputs": [],
   "source": [
    "df_altas_m = df_altas[df_altas[\"Sexo\"]== \"Mujeres\"]"
   ]
  },
  {
   "cell_type": "code",
   "execution_count": null,
   "id": "869e45f9",
   "metadata": {},
   "outputs": [],
   "source": []
  },
  {
   "cell_type": "code",
   "execution_count": null,
   "id": "e9113768",
   "metadata": {},
   "outputs": [],
   "source": [
    "df_altas_m[\"Diagnóstico principal (CIE10MC)\"].unique()"
   ]
  },
  {
   "cell_type": "markdown",
   "id": "84cb3b8f",
   "metadata": {},
   "source": [
    "       '1409 Trastornos de la menstruación, menopausia y otras afecciones del aparato genital femenino N91-N95',\n",
    "              '1408 Enfermedad inflamatoria de los órganos pélvicos femeninos N70-N77',\n",
    "                     '0205 Neoplasia maligna del útero C53-C55',\n",
    "       '0206 Neoplasia maligna del ovario C56',\n",
    "              '0212 Leiomioma uterino D25',       '2102 Asistencia anticonceptiva Z30',\n",
    "\n",
    "\n"
   ]
  },
  {
   "cell_type": "code",
   "execution_count": 23,
   "id": "29ea3c40",
   "metadata": {},
   "outputs": [],
   "source": [
    "diagnosticos = ['1409 Trastornos de la menstruación, menopausia y otras afecciones del aparato genital femenino N91-N95', '1408 Enfermedad inflamatoria de los órganos pélvicos femeninos N70-N77', '1410 Otros trastornos del sistema genitourinario Resto de N00-N99','0205 Neoplasia maligna del útero C53-C55', '0206 Neoplasia maligna del ovario C56','0212 Leiomioma uterino D25']"
   ]
  },
  {
   "cell_type": "code",
   "execution_count": 24,
   "id": "af5d05f1",
   "metadata": {},
   "outputs": [],
   "source": [
    "df_altas_m = df_altas_m[df_altas_m[\"Diagnóstico principal (CIE10MC)\"].isin(diagnosticos)]"
   ]
  },
  {
   "cell_type": "code",
   "execution_count": 26,
   "id": "f7a640de",
   "metadata": {},
   "outputs": [],
   "source": [
    "df_altas_m.to_csv(\"../files/processed/discharged_f.csv\")"
   ]
  },
  {
   "cell_type": "code",
   "execution_count": null,
   "id": "dad44fe3",
   "metadata": {},
   "outputs": [],
   "source": [
    "df_altas[(df_altas[\"Diagnóstico principal (CIE10MC)\"] == '1410 Otros trastornos del sistema genitourinario Resto de N00-N99') & (df_altas[\"Sexo\"] == 'Hombres')]"
   ]
  },
  {
   "cell_type": "code",
   "execution_count": null,
   "id": "1165c258",
   "metadata": {},
   "outputs": [],
   "source": [
    "df_altas[\"Total\"][df_altas[\"Motivo del alta\"]== \"total\"]\n",
    "\n"
   ]
  },
  {
   "cell_type": "code",
   "execution_count": 15,
   "id": "dc9303e6",
   "metadata": {},
   "outputs": [
    {
     "data": {
      "text/html": [
       "<div>\n",
       "<style scoped>\n",
       "    .dataframe tbody tr th:only-of-type {\n",
       "        vertical-align: middle;\n",
       "    }\n",
       "\n",
       "    .dataframe tbody tr th {\n",
       "        vertical-align: top;\n",
       "    }\n",
       "\n",
       "    .dataframe thead th {\n",
       "        text-align: right;\n",
       "    }\n",
       "</style>\n",
       "<table border=\"1\" class=\"dataframe\">\n",
       "  <thead>\n",
       "    <tr style=\"text-align: right;\">\n",
       "      <th></th>\n",
       "      <th>Diagnóstico principal (CIE10MC)</th>\n",
       "      <th>Sexo</th>\n",
       "      <th>Motivo del alta</th>\n",
       "      <th>Total</th>\n",
       "    </tr>\n",
       "  </thead>\n",
       "  <tbody>\n",
       "    <tr>\n",
       "      <th>0</th>\n",
       "      <td>0000 TODOS LOS DIAGNÓSTICOS A00-Z99 (excluyend...</td>\n",
       "      <td>Ambos sexos</td>\n",
       "      <td>total</td>\n",
       "      <td>4.751.829</td>\n",
       "    </tr>\n",
       "    <tr>\n",
       "      <th>1</th>\n",
       "      <td>0000 TODOS LOS DIAGNÓSTICOS A00-Z99 (excluyend...</td>\n",
       "      <td>Ambos sexos</td>\n",
       "      <td>curación o mejoría</td>\n",
       "      <td>4.181.592</td>\n",
       "    </tr>\n",
       "    <tr>\n",
       "      <th>2</th>\n",
       "      <td>0000 TODOS LOS DIAGNÓSTICOS A00-Z99 (excluyend...</td>\n",
       "      <td>Ambos sexos</td>\n",
       "      <td>traslado a otros centros</td>\n",
       "      <td>281.999</td>\n",
       "    </tr>\n",
       "    <tr>\n",
       "      <th>3</th>\n",
       "      <td>0000 TODOS LOS DIAGNÓSTICOS A00-Z99 (excluyend...</td>\n",
       "      <td>Ambos sexos</td>\n",
       "      <td>fallecimiento</td>\n",
       "      <td>226.359</td>\n",
       "    </tr>\n",
       "    <tr>\n",
       "      <th>4</th>\n",
       "      <td>0000 TODOS LOS DIAGNÓSTICOS A00-Z99 (excluyend...</td>\n",
       "      <td>Ambos sexos</td>\n",
       "      <td>otras causas</td>\n",
       "      <td>61.879</td>\n",
       "    </tr>\n",
       "    <tr>\n",
       "      <th>...</th>\n",
       "      <td>...</td>\n",
       "      <td>...</td>\n",
       "      <td>...</td>\n",
       "      <td>...</td>\n",
       "    </tr>\n",
       "    <tr>\n",
       "      <th>2245</th>\n",
       "      <td>ALTAS SIN DIAGNÓSTICOS</td>\n",
       "      <td>Mujeres</td>\n",
       "      <td>total</td>\n",
       "      <td>5.323</td>\n",
       "    </tr>\n",
       "    <tr>\n",
       "      <th>2246</th>\n",
       "      <td>ALTAS SIN DIAGNÓSTICOS</td>\n",
       "      <td>Mujeres</td>\n",
       "      <td>curación o mejoría</td>\n",
       "      <td>4.070</td>\n",
       "    </tr>\n",
       "    <tr>\n",
       "      <th>2247</th>\n",
       "      <td>ALTAS SIN DIAGNÓSTICOS</td>\n",
       "      <td>Mujeres</td>\n",
       "      <td>traslado a otros centros</td>\n",
       "      <td>299</td>\n",
       "    </tr>\n",
       "    <tr>\n",
       "      <th>2248</th>\n",
       "      <td>ALTAS SIN DIAGNÓSTICOS</td>\n",
       "      <td>Mujeres</td>\n",
       "      <td>fallecimiento</td>\n",
       "      <td>802</td>\n",
       "    </tr>\n",
       "    <tr>\n",
       "      <th>2249</th>\n",
       "      <td>ALTAS SIN DIAGNÓSTICOS</td>\n",
       "      <td>Mujeres</td>\n",
       "      <td>otras causas</td>\n",
       "      <td>151</td>\n",
       "    </tr>\n",
       "  </tbody>\n",
       "</table>\n",
       "<p>2250 rows × 4 columns</p>\n",
       "</div>"
      ],
      "text/plain": [
       "                        Diagnóstico principal (CIE10MC)         Sexo  \\\n",
       "0     0000 TODOS LOS DIAGNÓSTICOS A00-Z99 (excluyend...  Ambos sexos   \n",
       "1     0000 TODOS LOS DIAGNÓSTICOS A00-Z99 (excluyend...  Ambos sexos   \n",
       "2     0000 TODOS LOS DIAGNÓSTICOS A00-Z99 (excluyend...  Ambos sexos   \n",
       "3     0000 TODOS LOS DIAGNÓSTICOS A00-Z99 (excluyend...  Ambos sexos   \n",
       "4     0000 TODOS LOS DIAGNÓSTICOS A00-Z99 (excluyend...  Ambos sexos   \n",
       "...                                                 ...          ...   \n",
       "2245                             ALTAS SIN DIAGNÓSTICOS      Mujeres   \n",
       "2246                             ALTAS SIN DIAGNÓSTICOS      Mujeres   \n",
       "2247                             ALTAS SIN DIAGNÓSTICOS      Mujeres   \n",
       "2248                             ALTAS SIN DIAGNÓSTICOS      Mujeres   \n",
       "2249                             ALTAS SIN DIAGNÓSTICOS      Mujeres   \n",
       "\n",
       "               Motivo del alta      Total  \n",
       "0                        total  4.751.829  \n",
       "1           curación o mejoría  4.181.592  \n",
       "2     traslado a otros centros    281.999  \n",
       "3                fallecimiento    226.359  \n",
       "4                 otras causas     61.879  \n",
       "...                        ...        ...  \n",
       "2245                     total      5.323  \n",
       "2246        curación o mejoría      4.070  \n",
       "2247  traslado a otros centros        299  \n",
       "2248             fallecimiento        802  \n",
       "2249              otras causas        151  \n",
       "\n",
       "[2250 rows x 4 columns]"
      ]
     },
     "execution_count": 15,
     "metadata": {},
     "output_type": "execute_result"
    }
   ],
   "source": [
    "df_altas"
   ]
  },
  {
   "cell_type": "markdown",
   "id": "d64ecce7",
   "metadata": {},
   "source": [
    "EDA Endometriosis"
   ]
  },
  {
   "cell_type": "code",
   "execution_count": 2,
   "id": "5d07fb7d",
   "metadata": {},
   "outputs": [],
   "source": [
    "df_endo = pd.read_csv(\"../files/raw/structured_endometriosis_data.csv\")"
   ]
  },
  {
   "cell_type": "code",
   "execution_count": null,
   "id": "89407de2",
   "metadata": {},
   "outputs": [],
   "source": [
    "df_endo.info()"
   ]
  },
  {
   "cell_type": "code",
   "execution_count": null,
   "id": "53b03910",
   "metadata": {},
   "outputs": [],
   "source": [
    "df_endo.head()"
   ]
  },
  {
   "cell_type": "code",
   "execution_count": null,
   "id": "a6014cf4",
   "metadata": {},
   "outputs": [],
   "source": [
    "df_endo[\"Menstrual_Irregularity\"].unique() #1 - Sí 0 -No"
   ]
  },
  {
   "cell_type": "code",
   "execution_count": null,
   "id": "26583a41",
   "metadata": {},
   "outputs": [],
   "source": [
    "df_endo[\"Hormone_Level_Abnormality\"].unique() #1 - Anormal 0 - Normal"
   ]
  },
  {
   "cell_type": "code",
   "execution_count": null,
   "id": "fcfd223b",
   "metadata": {},
   "outputs": [],
   "source": [
    "df_endo[\"Infertility\"].unique() #1 - Sí 0 -No"
   ]
  },
  {
   "cell_type": "code",
   "execution_count": null,
   "id": "19712c32",
   "metadata": {},
   "outputs": [],
   "source": [
    "df_endo[\"Diagnosis\"].unique() #1 - Sí 0 -No"
   ]
  },
  {
   "cell_type": "code",
   "execution_count": 3,
   "id": "116d7979",
   "metadata": {},
   "outputs": [],
   "source": [
    "map = {1 : \"Yes\", 0 : \"No\"}\n",
    "\n",
    "df_endo[[\"Infertility\", \"Menstrual_Irregularity\", \"Hormone_Level_Abnormality\", \"Diagnosis\"]] = df_endo[[\"Infertility\", \"Menstrual_Irregularity\", \"Hormone_Level_Abnormality\", \"Diagnosis\"]].applymap(map.get)"
   ]
  },
  {
   "cell_type": "code",
   "execution_count": 4,
   "id": "90531970",
   "metadata": {},
   "outputs": [
    {
     "data": {
      "text/html": [
       "<div>\n",
       "<style scoped>\n",
       "    .dataframe tbody tr th:only-of-type {\n",
       "        vertical-align: middle;\n",
       "    }\n",
       "\n",
       "    .dataframe tbody tr th {\n",
       "        vertical-align: top;\n",
       "    }\n",
       "\n",
       "    .dataframe thead th {\n",
       "        text-align: right;\n",
       "    }\n",
       "</style>\n",
       "<table border=\"1\" class=\"dataframe\">\n",
       "  <thead>\n",
       "    <tr style=\"text-align: right;\">\n",
       "      <th></th>\n",
       "      <th>Age</th>\n",
       "      <th>Menstrual_Irregularity</th>\n",
       "      <th>Chronic_Pain_Level</th>\n",
       "      <th>Hormone_Level_Abnormality</th>\n",
       "      <th>Infertility</th>\n",
       "      <th>BMI</th>\n",
       "      <th>Diagnosis</th>\n",
       "    </tr>\n",
       "  </thead>\n",
       "  <tbody>\n",
       "    <tr>\n",
       "      <th>0</th>\n",
       "      <td>24</td>\n",
       "      <td>Yes</td>\n",
       "      <td>8.361531</td>\n",
       "      <td>No</td>\n",
       "      <td>No</td>\n",
       "      <td>19.451314</td>\n",
       "      <td>No</td>\n",
       "    </tr>\n",
       "    <tr>\n",
       "      <th>1</th>\n",
       "      <td>37</td>\n",
       "      <td>Yes</td>\n",
       "      <td>4.995508</td>\n",
       "      <td>No</td>\n",
       "      <td>No</td>\n",
       "      <td>22.388436</td>\n",
       "      <td>No</td>\n",
       "    </tr>\n",
       "    <tr>\n",
       "      <th>2</th>\n",
       "      <td>46</td>\n",
       "      <td>Yes</td>\n",
       "      <td>3.363996</td>\n",
       "      <td>Yes</td>\n",
       "      <td>No</td>\n",
       "      <td>21.320443</td>\n",
       "      <td>No</td>\n",
       "    </tr>\n",
       "    <tr>\n",
       "      <th>3</th>\n",
       "      <td>32</td>\n",
       "      <td>Yes</td>\n",
       "      <td>5.246037</td>\n",
       "      <td>No</td>\n",
       "      <td>No</td>\n",
       "      <td>20.177715</td>\n",
       "      <td>Yes</td>\n",
       "    </tr>\n",
       "    <tr>\n",
       "      <th>4</th>\n",
       "      <td>28</td>\n",
       "      <td>Yes</td>\n",
       "      <td>3.898932</td>\n",
       "      <td>Yes</td>\n",
       "      <td>No</td>\n",
       "      <td>23.538103</td>\n",
       "      <td>Yes</td>\n",
       "    </tr>\n",
       "    <tr>\n",
       "      <th>...</th>\n",
       "      <td>...</td>\n",
       "      <td>...</td>\n",
       "      <td>...</td>\n",
       "      <td>...</td>\n",
       "      <td>...</td>\n",
       "      <td>...</td>\n",
       "      <td>...</td>\n",
       "    </tr>\n",
       "    <tr>\n",
       "      <th>9995</th>\n",
       "      <td>37</td>\n",
       "      <td>Yes</td>\n",
       "      <td>3.153169</td>\n",
       "      <td>Yes</td>\n",
       "      <td>No</td>\n",
       "      <td>18.318849</td>\n",
       "      <td>No</td>\n",
       "    </tr>\n",
       "    <tr>\n",
       "      <th>9996</th>\n",
       "      <td>44</td>\n",
       "      <td>No</td>\n",
       "      <td>4.044800</td>\n",
       "      <td>Yes</td>\n",
       "      <td>Yes</td>\n",
       "      <td>24.732344</td>\n",
       "      <td>No</td>\n",
       "    </tr>\n",
       "    <tr>\n",
       "      <th>9997</th>\n",
       "      <td>39</td>\n",
       "      <td>No</td>\n",
       "      <td>5.096384</td>\n",
       "      <td>Yes</td>\n",
       "      <td>Yes</td>\n",
       "      <td>34.204883</td>\n",
       "      <td>Yes</td>\n",
       "    </tr>\n",
       "    <tr>\n",
       "      <th>9998</th>\n",
       "      <td>47</td>\n",
       "      <td>Yes</td>\n",
       "      <td>7.598862</td>\n",
       "      <td>Yes</td>\n",
       "      <td>Yes</td>\n",
       "      <td>30.374964</td>\n",
       "      <td>Yes</td>\n",
       "    </tr>\n",
       "    <tr>\n",
       "      <th>9999</th>\n",
       "      <td>38</td>\n",
       "      <td>No</td>\n",
       "      <td>7.822210</td>\n",
       "      <td>No</td>\n",
       "      <td>No</td>\n",
       "      <td>26.385575</td>\n",
       "      <td>No</td>\n",
       "    </tr>\n",
       "  </tbody>\n",
       "</table>\n",
       "<p>10000 rows × 7 columns</p>\n",
       "</div>"
      ],
      "text/plain": [
       "      Age Menstrual_Irregularity  Chronic_Pain_Level  \\\n",
       "0      24                    Yes            8.361531   \n",
       "1      37                    Yes            4.995508   \n",
       "2      46                    Yes            3.363996   \n",
       "3      32                    Yes            5.246037   \n",
       "4      28                    Yes            3.898932   \n",
       "...   ...                    ...                 ...   \n",
       "9995   37                    Yes            3.153169   \n",
       "9996   44                     No            4.044800   \n",
       "9997   39                     No            5.096384   \n",
       "9998   47                    Yes            7.598862   \n",
       "9999   38                     No            7.822210   \n",
       "\n",
       "     Hormone_Level_Abnormality Infertility        BMI Diagnosis  \n",
       "0                           No          No  19.451314        No  \n",
       "1                           No          No  22.388436        No  \n",
       "2                          Yes          No  21.320443        No  \n",
       "3                           No          No  20.177715       Yes  \n",
       "4                          Yes          No  23.538103       Yes  \n",
       "...                        ...         ...        ...       ...  \n",
       "9995                       Yes          No  18.318849        No  \n",
       "9996                       Yes         Yes  24.732344        No  \n",
       "9997                       Yes         Yes  34.204883       Yes  \n",
       "9998                       Yes         Yes  30.374964       Yes  \n",
       "9999                        No          No  26.385575        No  \n",
       "\n",
       "[10000 rows x 7 columns]"
      ]
     },
     "execution_count": 4,
     "metadata": {},
     "output_type": "execute_result"
    }
   ],
   "source": [
    "df_endo"
   ]
  },
  {
   "cell_type": "code",
   "execution_count": 5,
   "id": "40cec470",
   "metadata": {},
   "outputs": [],
   "source": [
    "df_endo.to_csv(\"../files/processed/endometriosis.csv\")"
   ]
  },
  {
   "cell_type": "code",
   "execution_count": null,
   "id": "70601a59",
   "metadata": {},
   "outputs": [],
   "source": [
    "for d in df_endo.columns:\n",
    "    print(df_endo[d].unique())"
   ]
  },
  {
   "cell_type": "code",
   "execution_count": null,
   "id": "7fef1e96",
   "metadata": {},
   "outputs": [],
   "source": [
    "df_endo[df_endo[\"Age\"] == 24]"
   ]
  },
  {
   "cell_type": "markdown",
   "id": "36da2b89",
   "metadata": {},
   "source": [
    "EDA Ovarios Poliquísticos"
   ]
  },
  {
   "cell_type": "code",
   "execution_count": 7,
   "id": "6d8c059d",
   "metadata": {},
   "outputs": [],
   "source": [
    "df_pcos = pd.read_csv(\"../files/raw/pcos.csv\")"
   ]
  },
  {
   "cell_type": "code",
   "execution_count": null,
   "id": "50c4547a",
   "metadata": {},
   "outputs": [],
   "source": [
    "df_pcos.info()\n"
   ]
  },
  {
   "cell_type": "code",
   "execution_count": 10,
   "id": "dc9b7cdf",
   "metadata": {},
   "outputs": [
    {
     "data": {
      "text/html": [
       "<div>\n",
       "<style scoped>\n",
       "    .dataframe tbody tr th:only-of-type {\n",
       "        vertical-align: middle;\n",
       "    }\n",
       "\n",
       "    .dataframe tbody tr th {\n",
       "        vertical-align: top;\n",
       "    }\n",
       "\n",
       "    .dataframe thead th {\n",
       "        text-align: right;\n",
       "    }\n",
       "</style>\n",
       "<table border=\"1\" class=\"dataframe\">\n",
       "  <thead>\n",
       "    <tr style=\"text-align: right;\">\n",
       "      <th></th>\n",
       "      <th>Age</th>\n",
       "      <th>BMI</th>\n",
       "      <th>Menstrual_Irregularity</th>\n",
       "      <th>Testosterone_Level(ng/dL)</th>\n",
       "      <th>Antral_Follicle_Count</th>\n",
       "      <th>PCOS_Diagnosis</th>\n",
       "    </tr>\n",
       "  </thead>\n",
       "  <tbody>\n",
       "    <tr>\n",
       "      <th>0</th>\n",
       "      <td>29</td>\n",
       "      <td>21.2</td>\n",
       "      <td>No</td>\n",
       "      <td>46.1</td>\n",
       "      <td>9</td>\n",
       "      <td>No</td>\n",
       "    </tr>\n",
       "    <tr>\n",
       "      <th>1</th>\n",
       "      <td>20</td>\n",
       "      <td>20.5</td>\n",
       "      <td>No</td>\n",
       "      <td>59.4</td>\n",
       "      <td>6</td>\n",
       "      <td>No</td>\n",
       "    </tr>\n",
       "    <tr>\n",
       "      <th>2</th>\n",
       "      <td>23</td>\n",
       "      <td>23.1</td>\n",
       "      <td>No</td>\n",
       "      <td>69.3</td>\n",
       "      <td>10</td>\n",
       "      <td>No</td>\n",
       "    </tr>\n",
       "    <tr>\n",
       "      <th>3</th>\n",
       "      <td>19</td>\n",
       "      <td>32.7</td>\n",
       "      <td>Yes</td>\n",
       "      <td>77.7</td>\n",
       "      <td>37</td>\n",
       "      <td>Yes</td>\n",
       "    </tr>\n",
       "    <tr>\n",
       "      <th>4</th>\n",
       "      <td>19</td>\n",
       "      <td>25.9</td>\n",
       "      <td>No</td>\n",
       "      <td>49.4</td>\n",
       "      <td>5</td>\n",
       "      <td>No</td>\n",
       "    </tr>\n",
       "  </tbody>\n",
       "</table>\n",
       "</div>"
      ],
      "text/plain": [
       "   Age   BMI Menstrual_Irregularity  Testosterone_Level(ng/dL)  \\\n",
       "0   29  21.2                     No                       46.1   \n",
       "1   20  20.5                     No                       59.4   \n",
       "2   23  23.1                     No                       69.3   \n",
       "3   19  32.7                    Yes                       77.7   \n",
       "4   19  25.9                     No                       49.4   \n",
       "\n",
       "   Antral_Follicle_Count PCOS_Diagnosis  \n",
       "0                      9             No  \n",
       "1                      6             No  \n",
       "2                     10             No  \n",
       "3                     37            Yes  \n",
       "4                      5             No  "
      ]
     },
     "execution_count": 10,
     "metadata": {},
     "output_type": "execute_result"
    }
   ],
   "source": [
    "df_pcos.head()"
   ]
  },
  {
   "cell_type": "code",
   "execution_count": 9,
   "id": "bcccce65",
   "metadata": {},
   "outputs": [],
   "source": [
    "map = {1 : \"Yes\", 0 : \"No\"}\n",
    "\n",
    "df_pcos[[\"Menstrual_Irregularity\", \"PCOS_Diagnosis\"]] = df_pcos[[\"Menstrual_Irregularity\", \"PCOS_Diagnosis\"]].applymap(map.get)"
   ]
  },
  {
   "cell_type": "code",
   "execution_count": 11,
   "id": "45d97f15",
   "metadata": {},
   "outputs": [],
   "source": [
    "df_pcos.to_csv(\"../files/processed/pcos.csv\")"
   ]
  }
 ],
 "metadata": {
  "kernelspec": {
   "display_name": "base",
   "language": "python",
   "name": "python3"
  },
  "language_info": {
   "codemirror_mode": {
    "name": "ipython",
    "version": 3
   },
   "file_extension": ".py",
   "mimetype": "text/x-python",
   "name": "python",
   "nbconvert_exporter": "python",
   "pygments_lexer": "ipython3",
   "version": "3.12.9"
  }
 },
 "nbformat": 4,
 "nbformat_minor": 5
}
